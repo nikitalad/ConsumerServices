{
 "cells": [
  {
   "cell_type": "code",
   "execution_count": 3,
   "id": "8999a064",
   "metadata": {},
   "outputs": [],
   "source": [
    "import warnings\n",
    "warnings.filterwarnings('ignore')"
   ]
  },
  {
   "cell_type": "code",
   "execution_count": 4,
   "id": "1fa88466",
   "metadata": {},
   "outputs": [],
   "source": [
    "import pandas as pd\n",
    "import math\n",
    "from sklearn.model_selection import train_test_split,KFold\n",
    "from sklearn.pipeline import Pipeline,FeatureUnion\n",
    "from sklearn.base import BaseEstimator, TransformerMixin\n",
    "import numpy as n\n",
    "from mypipes import *"
   ]
  },
  {
   "cell_type": "code",
   "execution_count": 5,
   "id": "b6fac2f6",
   "metadata": {},
   "outputs": [],
   "source": [
    "datafile_train=r'/Users/nikita/Downloads/RealEstate/Data/Property_train.csv'\n",
    "datafile_test=r'/Users/nikita/Downloads/RealEstate/Data/Property_test_share.csv'\n",
    "cd_train=pd.read_csv(datafile_train)\n",
    "cd_test=pd.read_csv(datafile_test)"
   ]
  },
  {
   "cell_type": "code",
   "execution_count": 6,
   "id": "3e4c9453",
   "metadata": {},
   "outputs": [
    {
     "name": "stdout",
     "output_type": "stream",
     "text": [
      "<class 'pandas.core.frame.DataFrame'>\n",
      "RangeIndex: 62035 entries, 0 to 62034\n",
      "Data columns (total 31 columns):\n",
      " #   Column                 Non-Null Count  Dtype \n",
      "---  ------                 --------------  ----- \n",
      " 0   Junk                   62035 non-null  int64 \n",
      " 1   InteriorsStyle         62035 non-null  object\n",
      " 2   PriceIndex8            62035 non-null  object\n",
      " 3   ListDate               62035 non-null  object\n",
      " 4   Material               62035 non-null  object\n",
      " 5   PriceIndex9            62035 non-null  int64 \n",
      " 6   Agency                 62035 non-null  object\n",
      " 7   AreaIncomeType         62035 non-null  object\n",
      " 8   EnvRating              62035 non-null  object\n",
      " 9   PriceIndex7            62035 non-null  object\n",
      " 10  ExpeditedListing       62035 non-null  int64 \n",
      " 11  PriceIndex4            62035 non-null  object\n",
      " 12  PriceIndex1            62035 non-null  object\n",
      " 13  PriceIndex6            62035 non-null  object\n",
      " 14  PRIMEUNIT              62035 non-null  object\n",
      " 15  Channel                62035 non-null  object\n",
      " 16  Zip                    62035 non-null  int64 \n",
      " 17  InsurancePremiumIndex  62035 non-null  int64 \n",
      " 18  PlotType               62035 non-null  object\n",
      " 19  Architecture           62035 non-null  object\n",
      " 20  PriceIndex3            62035 non-null  object\n",
      " 21  Region                 62035 non-null  object\n",
      " 22  PriceIndex5            62035 non-null  object\n",
      " 23  SubModel               62035 non-null  object\n",
      " 24  Facade                 62035 non-null  object\n",
      " 25  State                  62035 non-null  object\n",
      " 26  NormalisedPopulation   62035 non-null  int64 \n",
      " 27  BuildYear              62035 non-null  int64 \n",
      " 28  RegionType             62035 non-null  object\n",
      " 29  PropertyAge            62035 non-null  int64 \n",
      " 30  PriceIndex2            62035 non-null  object\n",
      "dtypes: int64(8), object(23)\n",
      "memory usage: 14.7+ MB\n"
     ]
    }
   ],
   "source": [
    "cd_train.info()\n"
   ]
  },
  {
   "cell_type": "code",
   "execution_count": 7,
   "id": "568f34fd",
   "metadata": {},
   "outputs": [
    {
     "data": {
      "text/html": [
       "<div>\n",
       "<style scoped>\n",
       "    .dataframe tbody tr th:only-of-type {\n",
       "        vertical-align: middle;\n",
       "    }\n",
       "\n",
       "    .dataframe tbody tr th {\n",
       "        vertical-align: top;\n",
       "    }\n",
       "\n",
       "    .dataframe thead th {\n",
       "        text-align: right;\n",
       "    }\n",
       "</style>\n",
       "<table border=\"1\" class=\"dataframe\">\n",
       "  <thead>\n",
       "    <tr style=\"text-align: right;\">\n",
       "      <th></th>\n",
       "      <th>Junk</th>\n",
       "      <th>InteriorsStyle</th>\n",
       "      <th>PriceIndex8</th>\n",
       "      <th>ListDate</th>\n",
       "      <th>Material</th>\n",
       "      <th>PriceIndex9</th>\n",
       "      <th>Agency</th>\n",
       "      <th>AreaIncomeType</th>\n",
       "      <th>EnvRating</th>\n",
       "      <th>PriceIndex7</th>\n",
       "      <th>...</th>\n",
       "      <th>Region</th>\n",
       "      <th>PriceIndex5</th>\n",
       "      <th>SubModel</th>\n",
       "      <th>Facade</th>\n",
       "      <th>State</th>\n",
       "      <th>NormalisedPopulation</th>\n",
       "      <th>BuildYear</th>\n",
       "      <th>RegionType</th>\n",
       "      <th>PropertyAge</th>\n",
       "      <th>PriceIndex2</th>\n",
       "    </tr>\n",
       "  </thead>\n",
       "  <tbody>\n",
       "    <tr>\n",
       "      <th>3043</th>\n",
       "      <td>0</td>\n",
       "      <td>7R8J</td>\n",
       "      <td>8244.0</td>\n",
       "      <td>8/20/2010</td>\n",
       "      <td>C8A4</td>\n",
       "      <td>4825</td>\n",
       "      <td>CAT1</td>\n",
       "      <td>A</td>\n",
       "      <td>missing</td>\n",
       "      <td>7265.0</td>\n",
       "      <td>...</td>\n",
       "      <td>A</td>\n",
       "      <td>4309.0</td>\n",
       "      <td>FIVQ</td>\n",
       "      <td>BLUE</td>\n",
       "      <td>FL</td>\n",
       "      <td>82402</td>\n",
       "      <td>2005</td>\n",
       "      <td>A</td>\n",
       "      <td>5</td>\n",
       "      <td>4848.0</td>\n",
       "    </tr>\n",
       "  </tbody>\n",
       "</table>\n",
       "<p>1 rows × 31 columns</p>\n",
       "</div>"
      ],
      "text/plain": [
       "      Junk InteriorsStyle PriceIndex8   ListDate Material  PriceIndex9 Agency  \\\n",
       "3043     0           7R8J      8244.0  8/20/2010     C8A4         4825   CAT1   \n",
       "\n",
       "     AreaIncomeType EnvRating PriceIndex7  ...  Region PriceIndex5 SubModel  \\\n",
       "3043              A   missing      7265.0  ...       A      4309.0     FIVQ   \n",
       "\n",
       "     Facade State NormalisedPopulation  BuildYear  RegionType PropertyAge  \\\n",
       "3043   BLUE    FL                82402       2005           A           5   \n",
       "\n",
       "     PriceIndex2  \n",
       "3043      4848.0  \n",
       "\n",
       "[1 rows x 31 columns]"
      ]
     },
     "execution_count": 7,
     "metadata": {},
     "output_type": "execute_result"
    }
   ],
   "source": [
    "cd_train.sample()\n"
   ]
  },
  {
   "cell_type": "code",
   "execution_count": null,
   "id": "4cceb3b8",
   "metadata": {},
   "outputs": [],
   "source": []
  }
 ],
 "metadata": {
  "kernelspec": {
   "display_name": "Python 3 (ipykernel)",
   "language": "python",
   "name": "python3"
  },
  "language_info": {
   "codemirror_mode": {
    "name": "ipython",
    "version": 3
   },
   "file_extension": ".py",
   "mimetype": "text/x-python",
   "name": "python",
   "nbconvert_exporter": "python",
   "pygments_lexer": "ipython3",
   "version": "3.11.5"
  }
 },
 "nbformat": 4,
 "nbformat_minor": 5
}
